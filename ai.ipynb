{
 "cells": [
  {
   "cell_type": "code",
   "execution_count": 9,
   "metadata": {},
   "outputs": [
    {
     "data": {
      "text/plain": [
       "<g4f.client.stubs.ChatCompletion at 0x26e2c500050>"
      ]
     },
     "execution_count": 9,
     "metadata": {},
     "output_type": "execute_result"
    }
   ],
   "source": [
    "from g4f.client import Client\n",
    "import asyncio\n",
    "from concurrent.futures import ThreadPoolExecutor\n",
    "\n",
    "client = Client()\n",
    "\n",
    "# async def main():\n",
    "#     def fetch_response():\n",
    "#         return client.chat.completions.create(\n",
    "#             model=\"gpt-4\",\n",
    "#             messages=[\n",
    "#                 {\n",
    "#                     \"role\": \"system\",\n",
    "#                     \"content\": \"Generate articles that follow the users instructions exactly.\",\n",
    "#                 },\n",
    "#                 {\"role\": \"user\", \"content\": \"write a bedtime story about hyenas\"},\n",
    "#             ],\n",
    "#             temperature=0.7,\n",
    "#             stream=True,\n",
    "#         )\n",
    "\n",
    "#     loop = asyncio.get_event_loop()\n",
    "#     with ThreadPoolExecutor() as executor:\n",
    "#         response = await loop.run_in_executor(executor, fetch_response)\n",
    "\n",
    "#     full_response = []\n",
    "#     for chunk in response:\n",
    "#         full_response.append(chunk)\n",
    "#         print(chunk, end=\"\")  # This will print to console immediately\n",
    "\n",
    "#     # Concatenate the content from all chunks\n",
    "#     full_content = ''.join([chunk.choices[0].delta.content for chunk in full_response])\n",
    "    \n",
    "#     return full_content\n",
    "\n",
    "# # Run the main function\n",
    "# if __name__ == \"__main__\":\n",
    "#     full_content = asyncio.run(main())\n",
    "#     print(\"\\nFull response collected:\")\n",
    "#     print(full_content)\n",
    "\n",
    "\n",
    "response = client.chat.completions.create(\n",
    "            model=\"gpt-4\",\n",
    "            messages=[\n",
    "                {\n",
    "                    \"role\": \"system\",\n",
    "                    \"content\": \"Generate articles that follow the users instructions exactly.\",\n",
    "                },\n",
    "                {\"role\": \"user\", \"content\": \"write a bedtime story about hyenas\"},\n",
    "            ],\n",
    "            temperature=0.7,\n",
    "            \n",
    "        )\n",
    "\n",
    "response"
   ]
  },
  {
   "cell_type": "code",
   "execution_count": 15,
   "metadata": {},
   "outputs": [
    {
     "data": {
      "text/plain": [
       "\"Once upon a time, in the vast savannahs of Africa, there was a young hyena named Hena. Unlike the other hyenas, Hena was curious and kind-hearted, always eager to learn more about the world around her.\\n\\nOne night, under the shimmering stars, Hena's grandmother told her about the **Great Sky River**, a place in the heavens where the bravest animals could go to embark on grand adventures. Hena's eyes sparkled with wonder, and she decided that she too wanted to visit this magical place.\\n\\nDespite the other hyenas laughing at her dreams, Hena was determined. She practiced running faster, jumping higher, and being braver than ever before. Her best friend, a wise old tortoise named Toto, believed in her and shared stories of courage and perseverance.\\n\\nFinally, the night came when the **Great Sky River** appeared, glowing brightly in the sky. Hena took a deep breath and sprinted as fast as she could, leaping towards the stars. To everyone's amazement, she began to climb the invisible steps that led to the sky.\\n\\nUp and up she went, until she reached the **Great Sky River**. There, she met creatures of legend and lore, and together, they danced on the clouds, raced comets, and sang songs that echoed through the cosmos.\\n\\nAs dawn approached, Hena knew it was time to return. She descended back to the savannah, her heart full of joy and stories to tell. From that day on, Hena was no longer just a young hyena; she was Hena the Brave, the one who danced with the stars.\\n\\nAnd so, every night, as the little ones of the savannah drifted to sleep, they would dream of Hena's adventures, knowing that bravery and kindness could take them to the stars and beyond.\\n\\nGoodnight, little one. May your dreams be as boundless as Hena's, and may you always reach for the stars. 🌟\\n\\nThe end.\\n\""
      ]
     },
     "execution_count": 15,
     "metadata": {},
     "output_type": "execute_result"
    }
   ],
   "source": [
    "response.choices[0].message.content"
   ]
  },
  {
   "cell_type": "code",
   "execution_count": 19,
   "metadata": {},
   "outputs": [
    {
     "name": "stdout",
     "output_type": "stream",
     "text": [
      "Once upon a time, in the vast savanna of Africa, there was a young hyena named Hara. Unlike the other hyenas in her clan, Hara was curious and kind-hearted, always wondering about the world beyond the grassy plains.\n",
      "\n",
      "One night, as the stars began to twinkle in the sky, Hara approached her grandmother, the wisest hyena of the clan, and asked, \"Grandma, why do we laugh so much?\"\n",
      "\n",
      "Her grandmother smiled and began to tell a story that had been passed down through generations.\n",
      "\n",
      "\"Long ago,\" she started, \"hyenas didn't laugh. We were very serious creatures, always focused on hunting and surviving. But one day, a magical bird with feathers as bright as the sun flew over our land. It sang a song so beautiful that all who heard it couldn't help but smile.\"\n",
      "\n",
      "Hara listened intently as her grandmother continued, \"The bird saw the hard life we led and decided to gift us with laughter. It said, 'From now on, whenever you feel the weight of the world, let laughter lighten your heart.' And so, we learned to laugh, not because we are mocking life, but because we are embracing it with joy.\"\n",
      "\n",
      "Hara's eyes sparkled with wonder. \"So, our laughter is a gift?\"\n",
      "\n",
      "\"Yes, my dear,\" her grandmother nodded. \"It's a reminder that even in the toughest times, we can find happiness.\"\n",
      "\n",
      "That night, as Hara lay under the starlit sky, she thought about the magical bird and the gift of laughter. She realized that her laughter could spread joy and warmth to others, just like the bird's song.\n",
      "\n",
      "From that day on, Hara laughed more freely, sharing her joy with all the animals in the savanna. And as she grew, she became known as the happiest hyena, who could brighten anyone's day with just a giggle.\n",
      "\n",
      "And so, the legend of Hara, the laughing hyena, was born, reminding everyone that laughter truly is the best medicine.\n",
      "\n",
      "As the story ended, Hara's grandmother gently nudged her. \"Now, sleep well, my child, and may your dreams be filled with laughter.\"\n",
      "\n",
      "Hara closed her eyes, a soft chuckle escaping her lips as she drifted into a peaceful sleep, dreaming of magical birds and a savanna filled with laughter.\n",
      "\n",
      "The end.\n",
      "\n",
      "Goodnight, and may your dreams be filled with joy and laughter too. 🌟None\n",
      "Full response collected:\n",
      "Once\n"
     ]
    }
   ],
   "source": [
    "async def main():\n",
    "    def fetch_response():\n",
    "        return client.chat.completions.create(\n",
    "            model=\"gpt-4\",\n",
    "            messages=[\n",
    "                {\n",
    "                    \"role\": \"system\",\n",
    "                    \"content\": \"Generate articles that follow the users instructions exactly.\",\n",
    "                },\n",
    "                {\"role\": \"user\", \"content\": \"write a bedtime story about hyenas\"},\n",
    "            ],\n",
    "            temperature=0.7,\n",
    "            stream=True,\n",
    "        )\n",
    "\n",
    "    loop = asyncio.get_event_loop()\n",
    "    with ThreadPoolExecutor() as executor:\n",
    "        response = await loop.run_in_executor(executor, fetch_response)\n",
    "\n",
    "    full_response = []\n",
    "    for chunk in response:\n",
    "        data = chunk.choices[0].delta.content\n",
    "        full_response.append(data)\n",
    "\n",
    "        print(data, end=\"\")  # This will print to console immediately\n",
    "        \n",
    "    return full_content\n",
    "\n",
    "\n",
    "if __name__ == \"__main__\":\n",
    "    full_content = asyncio.run(main())\n",
    "    print(\"\\nFull response collected:\")\n",
    "    print(full_content)\n",
    "\n"
   ]
  }
 ],
 "metadata": {
  "kernelspec": {
   "display_name": ".venv",
   "language": "python",
   "name": "python3"
  },
  "language_info": {
   "codemirror_mode": {
    "name": "ipython",
    "version": 3
   },
   "file_extension": ".py",
   "mimetype": "text/x-python",
   "name": "python",
   "nbconvert_exporter": "python",
   "pygments_lexer": "ipython3",
   "version": "3.12.3"
  }
 },
 "nbformat": 4,
 "nbformat_minor": 2
}
